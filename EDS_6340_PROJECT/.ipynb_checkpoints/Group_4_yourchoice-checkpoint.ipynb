{
 "cells": [
  {
   "cell_type": "code",
   "execution_count": null,
   "id": "67ede533",
   "metadata": {},
   "outputs": [],
   "source": [
    "import numpy as np\n",
    "import pandas as pd\n",
    "import matplotlib.pyplot as plt\n",
    "import seaborn as sns\n",
    "from sklearn.model_selection import train_test_split, cross_val_score, KFold, GridSearchCV, RandomizedSearchCV\n",
    "from sklearn.svm import SVC\n",
    "from mlxtend.plotting import plot_decision_regions\n",
    "from scipy.stats import uniform, randint\n",
    "from sklearn.metrics import confusion_matrix, classification_report, accuracy_score\n",
    "from sklearn.metrics import mean_absolute_error, mean_squared_error, r2_score, make_scorer, f1_score\n",
    "from sklearn.preprocessing import MinMaxScaler\n",
    "from imblearn.over_sampling import RandomOverSampler\n",
    "from imblearn.under_sampling import RandomUnderSampler\n",
    "from sklearn.preprocessing import StandardScaler\n",
    "import warnings\n",
    "warnings.filterwarnings('ignore')"
   ]
  },
  {
   "cell_type": "markdown",
   "id": "ddbc4df4",
   "metadata": {},
   "source": [
    "Reading the data"
   ]
  },
  {
   "cell_type": "code",
   "execution_count": null,
   "id": "c10a9c08",
   "metadata": {},
   "outputs": [],
   "source": [
    "df=pd.read_csv(\"Group_4_data_cleaned.csv\",index_col=0)\n",
    "df.head()"
   ]
  },
  {
   "cell_type": "code",
   "execution_count": null,
   "id": "ba83d9bf",
   "metadata": {},
   "outputs": [],
   "source": [
    "print(df.describe())\n",
    "print(df.info())"
   ]
  },
  {
   "cell_type": "code",
   "execution_count": null,
   "id": "aa746bb0",
   "metadata": {},
   "outputs": [],
   "source": [
    "output_dict={1:'text',2:'horizontal line',3:'picture',4:'vertical line',5:'graphic'}\n",
    "df[\"y\"].value_counts().rename(index=output_dict)"
   ]
  },
  {
   "cell_type": "markdown",
   "id": "246eee44",
   "metadata": {},
   "source": [
    "Here we can observe that the 'text' type is more compared with other classes which needs to be classified. If we predcit all the classes as text we get an accuracy of 89.7% for the above dataset."
   ]
  },
  {
   "cell_type": "code",
   "execution_count": null,
   "id": "e901cffb",
   "metadata": {},
   "outputs": [],
   "source": [
    "ax=sns.countplot(df['y'])\n",
    "ax.set(xticklabels=output_dict.values())\n",
    "plt.show()"
   ]
  },
  {
   "cell_type": "markdown",
   "id": "52b65254",
   "metadata": {},
   "source": [
    "## Model Building"
   ]
  },
  {
   "cell_type": "code",
   "execution_count": null,
   "id": "3523055d",
   "metadata": {},
   "outputs": [],
   "source": [
    "X=df.iloc[:, :-1]\n",
    "y=df['y']\n",
    "\n",
    "X_train, X_test, y_train, y_test = train_test_split(X, y, test_size=0.2, random_state=42)"
   ]
  },
  {
   "cell_type": "markdown",
   "id": "c8e896a0",
   "metadata": {},
   "source": [
    "Diving the dataset to train and test with 80 an 20 percent ratio"
   ]
  },
  {
   "cell_type": "code",
   "execution_count": null,
   "id": "4156db7d",
   "metadata": {},
   "outputs": [],
   "source": [
    "# Scale the features using MinMaxScaler\n",
    "scaler = MinMaxScaler()\n",
    "X_train_scaled = scaler.fit_transform(X_train)\n",
    "X_test_scaled = scaler.transform(X_test)"
   ]
  },
  {
   "cell_type": "markdown",
   "id": "c94fc539",
   "metadata": {},
   "source": [
    "We are scaling the features for the input dataframe using MinMaxScaler"
   ]
  },
  {
   "cell_type": "code",
   "execution_count": null,
   "id": "24173c5f",
   "metadata": {},
   "outputs": [],
   "source": [
    "y_train.value_counts()"
   ]
  },
  {
   "cell_type": "markdown",
   "id": "a2e2d905",
   "metadata": {},
   "source": [
    "Here we can observe there a class imbalance. This can hamper our model accuracy big time. To deal with this problem we can either do oversampling or undersampling. If we do undersampling our train data will be reduced to 90 rows. Which will be very less for model building. Hence we choose oversampling the data."
   ]
  },
  {
   "cell_type": "code",
   "execution_count": null,
   "id": "2697ba13",
   "metadata": {},
   "outputs": [],
   "source": [
    "oversampler = RandomOverSampler(random_state=42)\n",
    "X_train_oversampled, y_train_oversampled = oversampler.fit_resample(X_train_scaled, y_train)"
   ]
  },
  {
   "cell_type": "code",
   "execution_count": null,
   "id": "acd2c2fe",
   "metadata": {},
   "outputs": [],
   "source": [
    "y_train_oversampled.value_counts()"
   ]
  },
  {
   "cell_type": "markdown",
   "id": "58c65755",
   "metadata": {},
   "source": [
    "Now we can observe that all classes have same number of rows. This is done using RandomOverSampler from the imblearn library."
   ]
  },
  {
   "cell_type": "markdown",
   "id": "557779a3",
   "metadata": {},
   "source": [
    "## We have choosed Support Vector Machines for our model"
   ]
  },
  {
   "cell_type": "code",
   "execution_count": null,
   "id": "bbf62cec",
   "metadata": {},
   "outputs": [],
   "source": [
    "svm = SVC()\n",
    "\n",
    "\n",
    "params= {'C': [0.1, 1, 10, 100, 1000], \n",
    "              'gamma': [1, 0.1, 0.01, 0.001, 0.0001],\n",
    "              'kernel': ['rbf']\n",
    "             } "
   ]
  },
  {
   "cell_type": "code",
   "execution_count": null,
   "id": "0d1ca4a7",
   "metadata": {},
   "outputs": [],
   "source": [
    "random_search = RandomizedSearchCV(svm, \n",
    "                            params,\n",
    "                            cv = 5,\n",
    "                            n_jobs=-1,\n",
    "                            refit = True, \n",
    "                            verbose = 3)\n",
    "random_search.fit(X_train_oversampled, y_train_oversampled)"
   ]
  },
  {
   "cell_type": "code",
   "execution_count": null,
   "id": "b166c7fe",
   "metadata": {},
   "outputs": [],
   "source": [
    "print(f\"The best hyperparameters: {random_search.best_params_}\")\n",
    "print(f\"The best score: {random_search.best_score_}\")"
   ]
  },
  {
   "cell_type": "markdown",
   "id": "6438a486",
   "metadata": {},
   "source": [
    "Performing RandomizedSearchCV on the train data which gives the best n value, max_features and the max_depth."
   ]
  },
  {
   "cell_type": "code",
   "execution_count": null,
   "id": "9807e3c6",
   "metadata": {},
   "outputs": [],
   "source": [
    "print(random_search.best_estimator_)"
   ]
  },
  {
   "cell_type": "code",
   "execution_count": null,
   "id": "b29f387a",
   "metadata": {},
   "outputs": [],
   "source": [
    "SVM = SVC(kernel=random_search.best_params_['kernel'], C=random_search.best_params_['C'], gamma=random_search.best_params_['gamma'])\n",
    "SVM.fit(X_train_oversampled, y_train_oversampled)"
   ]
  },
  {
   "cell_type": "code",
   "execution_count": null,
   "id": "10791fe2",
   "metadata": {},
   "outputs": [],
   "source": [
    "y_pred=SVM.predict(X_test_scaled)"
   ]
  },
  {
   "cell_type": "code",
   "execution_count": null,
   "id": "125b2ef6",
   "metadata": {},
   "outputs": [],
   "source": [
    "accuracy_score(y_test,y_pred)"
   ]
  },
  {
   "cell_type": "markdown",
   "id": "94aae14d",
   "metadata": {},
   "source": [
    "## Model Evaluation"
   ]
  },
  {
   "cell_type": "code",
   "execution_count": null,
   "id": "17aab719",
   "metadata": {},
   "outputs": [],
   "source": [
    "cv_scores = cross_val_score(SVM, \n",
    "                            X_train_oversampled, \n",
    "                            y_train_oversampled, \n",
    "                            cv=KFold(n_splits=10, shuffle=True),\n",
    "                            scoring='accuracy')\n",
    "\n",
    "cv_scores"
   ]
  },
  {
   "cell_type": "code",
   "execution_count": null,
   "id": "037ba814",
   "metadata": {},
   "outputs": [],
   "source": [
    "plt.plot(range(1, 11), cv_scores, marker='o')\n",
    "plt.ylim(0, 1)\n",
    "plt.ylabel('Accuracy score', fontsize=15)\n",
    "plt.xlabel('Fold', fontsize=15)\n",
    "plt.xticks(range(1,11))\n",
    "print(\"Average Accuracy\",cv_scores.mean())\n",
    "print(\"Standard deviation of Accuracy\",cv_scores.std())"
   ]
  },
  {
   "cell_type": "markdown",
   "id": "ae018142",
   "metadata": {},
   "source": [
    "## Confusion Matrix"
   ]
  },
  {
   "cell_type": "code",
   "execution_count": null,
   "id": "2cd6306f",
   "metadata": {},
   "outputs": [],
   "source": [
    "cm=confusion_matrix(y_test, y_pred)\n",
    "cm"
   ]
  },
  {
   "cell_type": "code",
   "execution_count": null,
   "id": "00dbd20c",
   "metadata": {},
   "outputs": [],
   "source": [
    "plt.figure(figsize = (8,6))\n",
    "\n",
    "sns.heatmap(cm, \n",
    "            annot=True, \n",
    "            cmap=\"Spectral\")\n",
    "plt.xlabel('Predicted', fontsize=15)\n",
    "plt.ylabel('Actual/Observed', fontsize=15);"
   ]
  },
  {
   "cell_type": "markdown",
   "id": "c1751009",
   "metadata": {},
   "source": [
    "## Classification report"
   ]
  },
  {
   "cell_type": "code",
   "execution_count": null,
   "id": "27c60a83",
   "metadata": {},
   "outputs": [],
   "source": [
    "print(classification_report(y_test, y_pred))"
   ]
  }
 ],
 "metadata": {
  "kernelspec": {
   "display_name": "Python 3 (ipykernel)",
   "language": "python",
   "name": "python3"
  },
  "language_info": {
   "codemirror_mode": {
    "name": "ipython",
    "version": 3
   },
   "file_extension": ".py",
   "mimetype": "text/x-python",
   "name": "python",
   "nbconvert_exporter": "python",
   "pygments_lexer": "ipython3",
   "version": "3.9.13"
  }
 },
 "nbformat": 4,
 "nbformat_minor": 5
}
