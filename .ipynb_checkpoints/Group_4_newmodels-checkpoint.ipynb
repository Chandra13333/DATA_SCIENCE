{
 "cells": [
  {
   "cell_type": "code",
   "execution_count": 1,
   "id": "f090cf3c",
   "metadata": {},
   "outputs": [],
   "source": [
    "import numpy as np\n",
    "import pandas as pd\n",
    "import matplotlib.pyplot as plt\n",
    "import seaborn as sns\n",
    "from sklearn.model_selection import train_test_split, cross_val_score, KFold, GridSearchCV, RandomizedSearchCV\n",
    "from sklearn.svm import SVC\n",
    "from mlxtend.plotting import plot_decision_regions\n",
    "from scipy.stats import uniform, randint\n",
    "from sklearn.metrics import confusion_matrix, classification_report, accuracy_score\n",
    "from sklearn.metrics import mean_absolute_error, mean_squared_error, r2_score, make_scorer, f1_score\n",
    "from sklearn.preprocessing import MinMaxScaler\n",
    "from imblearn.over_sampling import RandomOverSampler\n",
    "from imblearn.under_sampling import RandomUnderSampler\n",
    "from sklearn.preprocessing import StandardScaler\n",
    "from sklearn.neural_network import MLPClassifier\n",
    "import warnings\n",
    "warnings.filterwarnings('ignore')"
   ]
  },
  {
   "cell_type": "code",
   "execution_count": 2,
   "id": "c372eca8",
   "metadata": {},
   "outputs": [
    {
     "data": {
      "text/html": [
       "<div>\n",
       "<style scoped>\n",
       "    .dataframe tbody tr th:only-of-type {\n",
       "        vertical-align: middle;\n",
       "    }\n",
       "\n",
       "    .dataframe tbody tr th {\n",
       "        vertical-align: top;\n",
       "    }\n",
       "\n",
       "    .dataframe thead th {\n",
       "        text-align: right;\n",
       "    }\n",
       "</style>\n",
       "<table border=\"1\" class=\"dataframe\">\n",
       "  <thead>\n",
       "    <tr style=\"text-align: right;\">\n",
       "      <th></th>\n",
       "      <th>height</th>\n",
       "      <th>length</th>\n",
       "      <th>area</th>\n",
       "      <th>eccen</th>\n",
       "      <th>p_black</th>\n",
       "      <th>p_and</th>\n",
       "      <th>mean_tr</th>\n",
       "      <th>blackpix</th>\n",
       "      <th>blackand</th>\n",
       "      <th>wb_trans</th>\n",
       "      <th>y</th>\n",
       "    </tr>\n",
       "  </thead>\n",
       "  <tbody>\n",
       "    <tr>\n",
       "      <th>0</th>\n",
       "      <td>5.0</td>\n",
       "      <td>7</td>\n",
       "      <td>35</td>\n",
       "      <td>1.400</td>\n",
       "      <td>0.400</td>\n",
       "      <td>0.657</td>\n",
       "      <td>2.33</td>\n",
       "      <td>14</td>\n",
       "      <td>23.0</td>\n",
       "      <td>6.0</td>\n",
       "      <td>1</td>\n",
       "    </tr>\n",
       "    <tr>\n",
       "      <th>1</th>\n",
       "      <td>6.0</td>\n",
       "      <td>7</td>\n",
       "      <td>42</td>\n",
       "      <td>1.167</td>\n",
       "      <td>0.429</td>\n",
       "      <td>0.881</td>\n",
       "      <td>3.60</td>\n",
       "      <td>18</td>\n",
       "      <td>37.0</td>\n",
       "      <td>5.0</td>\n",
       "      <td>1</td>\n",
       "    </tr>\n",
       "    <tr>\n",
       "      <th>2</th>\n",
       "      <td>6.0</td>\n",
       "      <td>18</td>\n",
       "      <td>108</td>\n",
       "      <td>3.000</td>\n",
       "      <td>0.287</td>\n",
       "      <td>0.741</td>\n",
       "      <td>4.43</td>\n",
       "      <td>31</td>\n",
       "      <td>80.0</td>\n",
       "      <td>7.0</td>\n",
       "      <td>1</td>\n",
       "    </tr>\n",
       "    <tr>\n",
       "      <th>3</th>\n",
       "      <td>5.0</td>\n",
       "      <td>7</td>\n",
       "      <td>35</td>\n",
       "      <td>1.400</td>\n",
       "      <td>0.371</td>\n",
       "      <td>0.743</td>\n",
       "      <td>4.33</td>\n",
       "      <td>13</td>\n",
       "      <td>26.0</td>\n",
       "      <td>3.0</td>\n",
       "      <td>1</td>\n",
       "    </tr>\n",
       "    <tr>\n",
       "      <th>4</th>\n",
       "      <td>6.0</td>\n",
       "      <td>3</td>\n",
       "      <td>18</td>\n",
       "      <td>0.500</td>\n",
       "      <td>0.500</td>\n",
       "      <td>0.944</td>\n",
       "      <td>2.25</td>\n",
       "      <td>9</td>\n",
       "      <td>17.0</td>\n",
       "      <td>4.0</td>\n",
       "      <td>1</td>\n",
       "    </tr>\n",
       "  </tbody>\n",
       "</table>\n",
       "</div>"
      ],
      "text/plain": [
       "   height  length  area  eccen  p_black  p_and  mean_tr  blackpix  blackand  \\\n",
       "0     5.0       7    35  1.400    0.400  0.657     2.33        14      23.0   \n",
       "1     6.0       7    42  1.167    0.429  0.881     3.60        18      37.0   \n",
       "2     6.0      18   108  3.000    0.287  0.741     4.43        31      80.0   \n",
       "3     5.0       7    35  1.400    0.371  0.743     4.33        13      26.0   \n",
       "4     6.0       3    18  0.500    0.500  0.944     2.25         9      17.0   \n",
       "\n",
       "   wb_trans  y  \n",
       "0       6.0  1  \n",
       "1       5.0  1  \n",
       "2       7.0  1  \n",
       "3       3.0  1  \n",
       "4       4.0  1  "
      ]
     },
     "execution_count": 2,
     "metadata": {},
     "output_type": "execute_result"
    }
   ],
   "source": [
    "df=pd.read_csv(\"Group_4_data_cleaned.csv\",index_col=0)\n",
    "df.head()"
   ]
  },
  {
   "cell_type": "code",
   "execution_count": 3,
   "id": "7db9e8f2",
   "metadata": {},
   "outputs": [
    {
     "name": "stdout",
     "output_type": "stream",
     "text": [
      "            height       length         area        eccen      p_black  \\\n",
      "count  5473.000000  5473.000000  5473.000000  5473.000000  5473.000000   \n",
      "mean      8.491778    75.944089   678.280833     9.422260     0.355031   \n",
      "std       2.958167    77.844052   760.273682     9.661801     0.139284   \n",
      "min       2.500000     1.000000     7.000000     0.007000     0.052000   \n",
      "25%       7.000000    17.000000   114.000000     2.143000     0.261000   \n",
      "50%       8.000000    41.000000   322.000000     5.167000     0.337000   \n",
      "75%      10.000000   107.000000   980.000000    13.625000     0.426000   \n",
      "max      14.500000   242.000000  2279.000000    30.848000     0.673500   \n",
      "\n",
      "             p_and      mean_tr     blackpix     blackand     wb_trans  \\\n",
      "count  5473.000000  5473.000000  5473.000000  5473.000000  5473.000000   \n",
      "mean      0.786324     2.578667   198.322310   492.037365    86.901242   \n",
      "std       0.166482     1.310313   208.242346   532.593288    92.165275   \n",
      "min       0.307000     1.000000     7.000000     7.000000     1.000000   \n",
      "25%       0.679000     1.610000    42.000000    95.000000    17.000000   \n",
      "50%       0.803000     2.070000   108.000000   250.000000    49.000000   \n",
      "75%       0.927000     3.000000   284.000000   718.000000   126.000000   \n",
      "max       1.000000     5.085000   647.000000  1652.500000   289.500000   \n",
      "\n",
      "                 y  \n",
      "count  5473.000000  \n",
      "mean      1.202631  \n",
      "std       0.721470  \n",
      "min       1.000000  \n",
      "25%       1.000000  \n",
      "50%       1.000000  \n",
      "75%       1.000000  \n",
      "max       5.000000  \n",
      "<class 'pandas.core.frame.DataFrame'>\n",
      "Int64Index: 5473 entries, 0 to 5472\n",
      "Data columns (total 11 columns):\n",
      " #   Column    Non-Null Count  Dtype  \n",
      "---  ------    --------------  -----  \n",
      " 0   height    5473 non-null   float64\n",
      " 1   length    5473 non-null   int64  \n",
      " 2   area      5473 non-null   int64  \n",
      " 3   eccen     5473 non-null   float64\n",
      " 4   p_black   5473 non-null   float64\n",
      " 5   p_and     5473 non-null   float64\n",
      " 6   mean_tr   5473 non-null   float64\n",
      " 7   blackpix  5473 non-null   int64  \n",
      " 8   blackand  5473 non-null   float64\n",
      " 9   wb_trans  5473 non-null   float64\n",
      " 10  y         5473 non-null   int64  \n",
      "dtypes: float64(7), int64(4)\n",
      "memory usage: 513.1 KB\n",
      "None\n"
     ]
    }
   ],
   "source": [
    "print(df.describe())\n",
    "print(df.info())"
   ]
  },
  {
   "cell_type": "code",
   "execution_count": 4,
   "id": "ac061e22",
   "metadata": {},
   "outputs": [
    {
     "data": {
      "text/plain": [
       "text               4913\n",
       "horizontal line     329\n",
       "graphic             115\n",
       "vertical line        88\n",
       "picture              28\n",
       "Name: y, dtype: int64"
      ]
     },
     "execution_count": 4,
     "metadata": {},
     "output_type": "execute_result"
    }
   ],
   "source": [
    "output_dict={1:'text',2:'horizontal line',3:'picture',4:'vertical line',5:'graphic'}\n",
    "df[\"y\"].value_counts().rename(index=output_dict)"
   ]
  },
  {
   "cell_type": "code",
   "execution_count": 5,
   "id": "aa208914",
   "metadata": {},
   "outputs": [
    {
     "data": {
      "image/png": "[encoded data removed]",
      "text/plain": [
       "<Figure size 640x480 with 1 Axes>"
      ]
     },
     "metadata": {},
     "output_type": "display_data"
    }
   ],
   "source": [
    "ax=sns.countplot(df['y'])\n",
    "ax.set(xticklabels=output_dict.values())\n",
    "plt.show()"
   ]
  },
  {
   "cell_type": "code",
   "execution_count": 6,
   "id": "b76b4586",
   "metadata": {},
   "outputs": [],
   "source": [
    "X=df.iloc[:, :-1]\n",
    "y=df['y']\n",
    "\n",
    "oversampler = RandomOverSampler(random_state=42)\n",
    "X, y = oversampler.fit_resample(X, y)\n",
    "\n",
    "X_train, X_test, y_train, y_test = train_test_split(X, y, test_size=0.2, random_state=42)"
   ]
  },
  {
   "cell_type": "code",
   "execution_count": 7,
   "id": "426efa91",
   "metadata": {},
   "outputs": [],
   "source": [
    "# Scale the features using MinMaxScaler\n",
    "scaler = MinMaxScaler()\n",
    "X_train_scaled = scaler.fit_transform(X_train)\n",
    "X_test_scaled = scaler.transform(X_test)"
   ]
  },
  {
   "cell_type": "code",
   "execution_count": 8,
   "id": "6baa7fea",
   "metadata": {},
   "outputs": [
    {
     "data": {
      "text/plain": [
       "3    3945\n",
       "4    3938\n",
       "5    3924\n",
       "1    3923\n",
       "2    3922\n",
       "Name: y, dtype: int64"
      ]
     },
     "execution_count": 8,
     "metadata": {},
     "output_type": "execute_result"
    }
   ],
   "source": [
    "y_train.value_counts()"
   ]
  },
  {
   "cell_type": "code",
   "execution_count": 9,
   "id": "31398ca7",
   "metadata": {},
   "outputs": [],
   "source": [
    "#suppot vector classifier\n",
    "svm = SVC()\n",
    "params= {'C': [0.1, 1, 10, 100, 1000], \n",
    "              'gamma': [1, 0.1, 0.01, 0.001, 0.0001],\n",
    "              'kernel': ['linear']\n",
    "             } "
   ]
  },
  {
   "cell_type": "code",
   "execution_count": 10,
   "id": "c37b6a7f",
   "metadata": {},
   "outputs": [
    {
     "name": "stdout",
     "output_type": "stream",
     "text": [
      "Fitting 5 folds for each of 10 candidates, totalling 50 fits\n"
     ]
    },
    {
     "data": {
      "text/plain": [
       "RandomizedSearchCV(cv=5, estimator=SVC(), n_jobs=-1,\n",
       "                   param_distributions={'C': [0.1, 1, 10, 100, 1000],\n",
       "                                        'gamma': [1, 0.1, 0.01, 0.001, 0.0001],\n",
       "                                        'kernel': ['linear']},\n",
       "                   verbose=3)"
      ]
     },
     "execution_count": 10,
     "metadata": {},
     "output_type": "execute_result"
    }
   ],
   "source": [
    "random_search = RandomizedSearchCV(svm, params, cv = 5,n_jobs=-1, refit = True, verbose = 3)\n",
    "random_search.fit(X_train_scaled, y_train)"
   ]
  },
  {
   "cell_type": "code",
   "execution_count": 11,
   "id": "a7519f48",
   "metadata": {},
   "outputs": [
    {
     "name": "stdout",
     "output_type": "stream",
     "text": [
      "The best hyperparameters: {'kernel': 'linear', 'gamma': 0.01, 'C': 100}\n",
      "The best score: 0.9563913772110897\n"
     ]
    }
   ],
   "source": [
    "print(f\"The best hyperparameters: {random_search.best_params_}\")\n",
    "print(f\"The best score: {random_search.best_score_}\")"
   ]
  },
  {
   "cell_type": "code",
   "execution_count": 12,
   "id": "ef0c34b3",
   "metadata": {},
   "outputs": [
    {
     "name": "stdout",
     "output_type": "stream",
     "text": [
      "SVC(C=100, gamma=0.01, kernel='linear')\n"
     ]
    }
   ],
   "source": [
    "print(random_search.best_estimator_)"
   ]
  },
  {
   "cell_type": "markdown",
   "id": "7925155a",
   "metadata": {},
   "source": [
    "# Linear SVM "
   ]
  },
  {
   "cell_type": "code",
   "execution_count": 13,
   "id": "b9f76561",
   "metadata": {},
   "outputs": [
    {
     "data": {
      "text/plain": [
       "SVC(C=100, gamma=0.01, kernel='linear')"
      ]
     },
     "execution_count": 13,
     "metadata": {},
     "output_type": "execute_result"
    }
   ],
   "source": [
    "model1 = SVC(kernel=random_search.best_params_['kernel'], C=random_search.best_params_['C'],\n",
    "             gamma=random_search.best_params_['gamma'])\n",
    "model1.fit(X_train_scaled, y_train)"
   ]
  },
  {
   "cell_type": "code",
   "execution_count": 14,
   "id": "4dd73e9c",
   "metadata": {},
   "outputs": [],
   "source": [
    "y_pred=model1.predict(X_test_scaled)"
   ]
  },
  {
   "cell_type": "code",
   "execution_count": 15,
   "id": "6e66e0c4",
   "metadata": {},
   "outputs": [
    {
     "data": {
      "text/plain": [
       "0.9556279259108488"
      ]
     },
     "execution_count": 15,
     "metadata": {},
     "output_type": "execute_result"
    }
   ],
   "source": [
    "accuracy_score(y_test,y_pred)"
   ]
  },
  {
   "cell_type": "code",
   "execution_count": 16,
   "id": "650388c7",
   "metadata": {},
   "outputs": [
    {
     "data": {
      "text/plain": [
       "array([0.95727365, 0.9491353 , 0.97150127, 0.95725191, 0.95725191,\n",
       "       0.95877863, 0.94656489, 0.95928753, 0.9562341 , 0.95165394])"
      ]
     },
     "execution_count": 16,
     "metadata": {},
     "output_type": "execute_result"
    }
   ],
   "source": [
    "cv_scores = cross_val_score(model1, \n",
    "                            X_train_scaled, \n",
    "                            y_train, \n",
    "                            cv=KFold(n_splits=10, shuffle=True),\n",
    "                            scoring='accuracy')\n",
    "\n",
    "cv_scores"
   ]
  },
  {
   "cell_type": "code",
   "execution_count": 17,
   "id": "dbaee548",
   "metadata": {},
   "outputs": [
    {
     "name": "stdout",
     "output_type": "stream",
     "text": [
      "Average Accuracy 0.9564933125215171\n",
      "Standard deviation of Accuracy 0.006451586859777922\n"
     ]
    },
    {
     "data": {
      "image/png": "[encoded data removed]",
      "text/plain": [
       "<Figure size 640x480 with 1 Axes>"
      ]
     },
     "metadata": {},
     "output_type": "display_data"
    }
   ],
   "source": [
    "plt.plot(range(1, 11), cv_scores, marker='o')\n",
    "plt.ylim(0, 1)\n",
    "plt.ylabel('Accuracy score', fontsize=15)\n",
    "plt.xlabel('Fold', fontsize=15)\n",
    "plt.xticks(range(1,11))\n",
    "print(\"Average Accuracy\",cv_scores.mean())\n",
    "print(\"Standard deviation of Accuracy\",cv_scores.std())"
   ]
  },
  {
   "cell_type": "code",
   "execution_count": 18,
   "id": "c1802482",
   "metadata": {},
   "outputs": [
    {
     "data": {
      "text/plain": [
       "array([[898,  26,   2,  17,  47],\n",
       "       [ 20, 930,   0,  23,  18],\n",
       "       [  0,   0, 968,   0,   0],\n",
       "       [  9,  13,   0, 953,   0],\n",
       "       [ 12,  11,   0,  20, 946]])"
      ]
     },
     "execution_count": 18,
     "metadata": {},
     "output_type": "execute_result"
    }
   ],
   "source": [
    "cm=confusion_matrix(y_test, y_pred)\n",
    "cm"
   ]
  },
  {
   "cell_type": "code",
   "execution_count": 19,
   "id": "399a7b6c",
   "metadata": {},
   "outputs": [
    {
     "data": {
      "image/png": "[encoded data removed]",
      "text/plain": [
       "<Figure size 800x600 with 2 Axes>"
      ]
     },
     "metadata": {},
     "output_type": "display_data"
    }
   ],
   "source": [
    "plt.figure(figsize = (8,6))\n",
    "\n",
    "sns.heatmap(cm, \n",
    "            annot=True, \n",
    "            cmap=\"Spectral\")\n",
    "plt.xlabel('Predicted', fontsize=15)\n",
    "plt.ylabel('Actual/Observed', fontsize=15);"
   ]
  },
  {
   "cell_type": "code",
   "execution_count": 20,
   "id": "5ac31636",
   "metadata": {},
   "outputs": [
    {
     "name": "stdout",
     "output_type": "stream",
     "text": [
      "              precision    recall  f1-score   support\n",
      "\n",
      "           1       0.96      0.91      0.93       990\n",
      "           2       0.95      0.94      0.94       991\n",
      "           3       1.00      1.00      1.00       968\n",
      "           4       0.94      0.98      0.96       975\n",
      "           5       0.94      0.96      0.95       989\n",
      "\n",
      "    accuracy                           0.96      4913\n",
      "   macro avg       0.96      0.96      0.96      4913\n",
      "weighted avg       0.96      0.96      0.96      4913\n",
      "\n"
     ]
    }
   ],
   "source": [
    "print(classification_report(y_test, y_pred))"
   ]
  },
  {
   "cell_type": "markdown",
   "id": "5403d6f9",
   "metadata": {},
   "source": [
    "# Deep Learning using MLP Classifier"
   ]
  },
  {
   "cell_type": "code",
   "execution_count": 21,
   "id": "291612ee",
   "metadata": {},
   "outputs": [
    {
     "name": "stdout",
     "output_type": "stream",
     "text": [
      "[CV 1/5] END .......C=1, gamma=1, kernel=linear;, score=0.946 total time=   4.1s\n",
      "[CV 1/5] END ...C=10, gamma=0.01, kernel=linear;, score=0.962 total time=   2.0s\n",
      "[CV 3/5] END ..C=100, gamma=0.01, kernel=linear;, score=0.959 total time=   3.1s\n",
      "[CV 4/5] END .C=100, gamma=0.001, kernel=linear;, score=0.959 total time=   3.3s\n",
      "[CV 2/5] END ....C=10, gamma=0.1, kernel=linear;, score=0.949 total time=   2.2s\n",
      "[CV 3/5] END C=100, gamma=0.0001, kernel=linear;, score=0.959 total time=   3.3s\n",
      "[CV 3/5] END .......C=1, gamma=1, kernel=linear;, score=0.943 total time=   4.2s\n",
      "[CV 5/5] END ...C=10, gamma=0.01, kernel=linear;, score=0.952 total time=   2.0s\n",
      "[CV 4/5] END ..C=100, gamma=0.01, kernel=linear;, score=0.959 total time=   3.2s\n",
      "[CV 1/5] END .C=0.1, gamma=0.001, kernel=linear;, score=0.919 total time=   3.5s\n",
      "[CV 4/5] END ....C=10, gamma=0.1, kernel=linear;, score=0.957 total time=   2.3s\n",
      "[CV 5/5] END C=100, gamma=0.0001, kernel=linear;, score=0.955 total time=   3.1s\n",
      "[CV 2/5] END .....C=1, gamma=0.1, kernel=linear;, score=0.936 total time=   4.1s\n",
      "[CV 4/5] END ...C=10, gamma=0.01, kernel=linear;, score=0.957 total time=   2.0s\n",
      "[CV 5/5] END ..C=100, gamma=0.01, kernel=linear;, score=0.955 total time=   3.1s\n",
      "[CV 5/5] END .C=100, gamma=0.001, kernel=linear;, score=0.955 total time=   3.2s\n",
      "[CV 3/5] END ....C=10, gamma=0.1, kernel=linear;, score=0.956 total time=   2.4s\n",
      "[CV 4/5] END C=100, gamma=0.0001, kernel=linear;, score=0.959 total time=   3.3s\n",
      "[CV 3/5] END .....C=1, gamma=0.1, kernel=linear;, score=0.943 total time=   3.9s\n",
      "[CV 5/5] END .....C=1, gamma=0.1, kernel=linear;, score=0.933 total time=   2.3s\n",
      "[CV 2/5] END ......C=10, gamma=1, kernel=linear;, score=0.949 total time=   1.9s\n",
      "[CV 1/5] END .C=100, gamma=0.001, kernel=linear;, score=0.962 total time=   3.3s\n",
      "[CV 5/5] END .C=0.1, gamma=0.001, kernel=linear;, score=0.908 total time=   3.8s\n",
      "[CV 1/5] END ..C=0.1, gamma=0.01, kernel=linear;, score=0.919 total time=   3.4s\n",
      "[CV 4/5] END .......C=1, gamma=1, kernel=linear;, score=0.940 total time=   4.0s\n",
      "[CV 4/5] END .....C=1, gamma=0.1, kernel=linear;, score=0.940 total time=   2.5s\n",
      "[CV 3/5] END ......C=10, gamma=1, kernel=linear;, score=0.956 total time=   2.0s\n",
      "[CV 2/5] END .C=100, gamma=0.001, kernel=linear;, score=0.948 total time=   3.0s\n",
      "[CV 4/5] END .C=0.1, gamma=0.001, kernel=linear;, score=0.909 total time=   3.8s\n",
      "[CV 2/5] END ..C=0.1, gamma=0.01, kernel=linear;, score=0.910 total time=   3.4s\n",
      "[CV 5/5] END .......C=1, gamma=1, kernel=linear;, score=0.933 total time=   4.4s\n",
      "[CV 1/5] END ..C=100, gamma=0.01, kernel=linear;, score=0.962 total time=   3.4s\n",
      "[CV 4/5] END ......C=10, gamma=1, kernel=linear;, score=0.957 total time=   2.0s\n",
      "[CV 2/5] END .C=0.1, gamma=0.001, kernel=linear;, score=0.910 total time=   3.6s\n",
      "[CV 5/5] END ....C=10, gamma=0.1, kernel=linear;, score=0.952 total time=   2.6s\n",
      "[CV 3/5] END ..C=0.1, gamma=0.01, kernel=linear;, score=0.918 total time=   3.3s\n",
      "[CV 1/5] END .....C=1, gamma=0.1, kernel=linear;, score=0.946 total time=   4.0s\n",
      "[CV 2/5] END ...C=10, gamma=0.01, kernel=linear;, score=0.949 total time=   2.0s\n",
      "[CV 2/5] END ..C=100, gamma=0.01, kernel=linear;, score=0.948 total time=   3.0s\n",
      "[CV 3/5] END .C=100, gamma=0.001, kernel=linear;, score=0.959 total time=   3.2s\n",
      "[CV 1/5] END ....C=10, gamma=0.1, kernel=linear;, score=0.962 total time=   2.3s\n",
      "[CV 2/5] END C=100, gamma=0.0001, kernel=linear;, score=0.948 total time=   3.2s\n",
      "[CV 5/5] END ..C=0.1, gamma=0.01, kernel=linear;, score=0.908 total time=   2.7s\n",
      "[CV 2/5] END .......C=1, gamma=1, kernel=linear;, score=0.936 total time=   4.2s\n",
      "[CV 3/5] END ...C=10, gamma=0.01, kernel=linear;, score=0.956 total time=   2.1s\n",
      "[CV 1/5] END ......C=10, gamma=1, kernel=linear;, score=0.962 total time=   2.0s\n",
      "[CV 5/5] END ......C=10, gamma=1, kernel=linear;, score=0.952 total time=   2.1s\n",
      "[CV 3/5] END .C=0.1, gamma=0.001, kernel=linear;, score=0.918 total time=   3.6s\n",
      "[CV 1/5] END C=100, gamma=0.0001, kernel=linear;, score=0.962 total time=   3.6s\n",
      "[CV 4/5] END ..C=0.1, gamma=0.01, kernel=linear;, score=0.909 total time=   2.8s\n"
     ]
    },
    {
     "data": {
      "text/plain": [
       "RandomizedSearchCV(estimator=MLPClassifier(),\n",
       "                   param_distributions={'activation': ['relu', 'logistic'],\n",
       "                                        'alpha': [0.0001, 0.001, 0.01],\n",
       "                                        'hidden_layer_sizes': [(100,), (200,),\n",
       "                                                               (500,),\n",
       "                                                               (1000,)],\n",
       "                                        'learning_rate': ['constant',\n",
       "                                                          'adaptive'],\n",
       "                                        'solver': ['adam', 'sgd']})"
      ]
     },
     "execution_count": 21,
     "metadata": {},
     "output_type": "execute_result"
    }
   ],
   "source": [
    "model4= MLPClassifier()\n",
    "param_grid = {\n",
    "    'hidden_layer_sizes': [(100,), (200,), (500,), (1000,)],\n",
    "    'activation': ['relu', 'logistic'],\n",
    "    'solver': ['adam', 'sgd'],\n",
    "    'alpha': [0.0001, 0.001, 0.01],\n",
    "    'learning_rate': ['constant', 'adaptive'],\n",
    "}\n",
    "clf = RandomizedSearchCV(model4, param_grid)\n",
    "clf.fit(X_train_scaled,y_train)"
   ]
  },
  {
   "cell_type": "code",
   "execution_count": 22,
   "id": "85c465b4",
   "metadata": {},
   "outputs": [
    {
     "data": {
      "text/plain": [
       "{'solver': 'adam',\n",
       " 'learning_rate': 'adaptive',\n",
       " 'hidden_layer_sizes': (1000,),\n",
       " 'alpha': 0.001,\n",
       " 'activation': 'relu'}"
      ]
     },
     "execution_count": 22,
     "metadata": {},
     "output_type": "execute_result"
    }
   ],
   "source": [
    "clf.best_params_"
   ]
  },
  {
   "cell_type": "code",
   "execution_count": 23,
   "id": "c66fa11c",
   "metadata": {},
   "outputs": [
    {
     "data": {
      "text/plain": [
       "MLPClassifier(alpha=0.001, hidden_layer_sizes=(1000,), learning_rate='adaptive')"
      ]
     },
     "execution_count": 23,
     "metadata": {},
     "output_type": "execute_result"
    }
   ],
   "source": [
    "clf = MLPClassifier(solver = clf.best_params_['solver'],learning_rate = clf.best_params_['learning_rate'],\n",
    "                    hidden_layer_sizes = clf.best_params_['hidden_layer_sizes'],\n",
    "                    alpha = clf.best_params_['alpha'],\n",
    "                    activation = clf.best_params_[\"activation\"])\n",
    "clf.fit(X_train_scaled,y_train)"
   ]
  },
  {
   "cell_type": "code",
   "execution_count": 24,
   "id": "8da30039",
   "metadata": {},
   "outputs": [],
   "source": [
    "y_pred=clf.predict(X_test_scaled)"
   ]
  },
  {
   "cell_type": "code",
   "execution_count": 25,
   "id": "70c9b68f",
   "metadata": {},
   "outputs": [
    {
     "data": {
      "text/plain": [
       "0.9863627111744352"
      ]
     },
     "execution_count": 25,
     "metadata": {},
     "output_type": "execute_result"
    }
   ],
   "source": [
    "accuracy_score(y_test,y_pred)"
   ]
  },
  {
   "cell_type": "code",
   "execution_count": 26,
   "id": "ba613d7b",
   "metadata": {},
   "outputs": [
    {
     "data": {
      "text/plain": [
       "array([[961,  12,   2,   4,  11],\n",
       "       [  9, 963,   0,  19,   0],\n",
       "       [  0,   0, 968,   0,   0],\n",
       "       [  0,   0,   0, 975,   0],\n",
       "       [  0,   0,   0,  10, 979]])"
      ]
     },
     "execution_count": 26,
     "metadata": {},
     "output_type": "execute_result"
    }
   ],
   "source": [
    "cm=confusion_matrix(y_test, y_pred)\n",
    "cm"
   ]
  },
  {
   "cell_type": "code",
   "execution_count": 27,
   "id": "30b1aa5e",
   "metadata": {},
   "outputs": [
    {
     "data": {
      "image/png": "[encoded data removed]",
      "text/plain": [
       "<Figure size 800x600 with 2 Axes>"
      ]
     },
     "metadata": {},
     "output_type": "display_data"
    }
   ],
   "source": [
    "plt.figure(figsize = (8,6))\n",
    "\n",
    "sns.heatmap(cm, \n",
    "            annot=True, \n",
    "            cmap=\"Spectral\")\n",
    "plt.xlabel('Predicted', fontsize=15)\n",
    "plt.ylabel('Actual/Observed', fontsize=15);"
   ]
  },
  {
   "cell_type": "code",
   "execution_count": 28,
   "id": "42e28119",
   "metadata": {},
   "outputs": [
    {
     "data": {
      "text/plain": [
       "array([0.98931841, 0.98016277, 0.98829517, 0.98625954, 0.98727735,\n",
       "       0.98473282, 0.98931298, 0.98778626, 0.98676845, 0.98524173])"
      ]
     },
     "execution_count": 28,
     "metadata": {},
     "output_type": "execute_result"
    }
   ],
   "source": [
    "cv_scores = cross_val_score(clf, \n",
    "                            X_train_scaled, \n",
    "                            y_train, \n",
    "                            cv=KFold(n_splits=10, shuffle=True),\n",
    "                            scoring='accuracy')\n",
    "\n",
    "cv_scores"
   ]
  },
  {
   "cell_type": "code",
   "execution_count": 29,
   "id": "9d2c8d37",
   "metadata": {},
   "outputs": [
    {
     "name": "stdout",
     "output_type": "stream",
     "text": [
      "Average Accuracy 0.9865155480315491\n",
      "Standard deviation of Accuracy 0.0025754959513209223\n"
     ]
    },
    {
     "data": {
      "image/png": "[encoded data removed]",
      "text/plain": [
       "<Figure size 640x480 with 1 Axes>"
      ]
     },
     "metadata": {},
     "output_type": "display_data"
    }
   ],
   "source": [
    "plt.plot(range(1, 11), cv_scores, marker='o')\n",
    "plt.ylim(0, 1)\n",
    "plt.ylabel('Accuracy score', fontsize=15)\n",
    "plt.xlabel('Fold', fontsize=15)\n",
    "plt.xticks(range(1,11))\n",
    "print(\"Average Accuracy\",cv_scores.mean())\n",
    "print(\"Standard deviation of Accuracy\",cv_scores.std())"
   ]
  },
  {
   "cell_type": "markdown",
   "id": "31dc2b5c",
   "metadata": {},
   "source": [
    "# Extreme learning Machines"
   ]
  },
  {
   "cell_type": "code",
   "execution_count": 30,
   "id": "23804df8",
   "metadata": {},
   "outputs": [
    {
     "name": "stdout",
     "output_type": "stream",
     "text": [
      "{'n_neurons': 1000, 'ufunc': 'relu', 'alpha': 0.001}\n",
      "0.9802035623409668\n"
     ]
    }
   ],
   "source": [
    "from skelm import ELMClassifier\n",
    "from itertools import product\n",
    "\n",
    "class ELMGridSearch:\n",
    "    def __init__(self, param_grid,cv=5):\n",
    "        self.param_grid = param_grid\n",
    "        self.cv = cv\n",
    "        \n",
    "    def fit(self, X_train, y_train):\n",
    "        best_score = 0\n",
    "        best_params = None\n",
    "        \n",
    "        n_samples = X_train.shape[0]\n",
    "        fold_size = n_samples // self.cv\n",
    "        \n",
    "        for params in product(*self.param_grid.values()):\n",
    "            params = dict(zip(self.param_grid.keys(), params))\n",
    "            clf = ELMClassifier(**params)\n",
    "            clf.fit(X_train, y_train)\n",
    "            # Perform manual cross-validation\n",
    "            scores = []\n",
    "            for fold in range(self.cv):\n",
    "                start = fold * fold_size\n",
    "                end = start + fold_size\n",
    "                \n",
    "                # Split data into training and validation folds\n",
    "                X_val = X_train[start:end]\n",
    "                y_val = y_train[start:end]\n",
    "                X_tr = np.concatenate((X_train[:start], X_train[end:]))\n",
    "                y_tr = np.concatenate((y_train[:start], y_train[end:]))\n",
    "                \n",
    "                # Train the model on the training fold\n",
    "                clf.fit(X_tr, y_tr)\n",
    "                \n",
    "                # Evaluate the model on the validation fold\n",
    "                score = clf.score(X_val, y_val)\n",
    "                scores.append(score)\n",
    "                \n",
    "            # Compute the average performance across all folds\n",
    "            score = np.mean(scores)\n",
    "            \n",
    "            \n",
    "            if score > best_score:\n",
    "                best_score = score\n",
    "                best_params = params\n",
    "        \n",
    "        self.best_params_ = best_params\n",
    "        self.best_score_ = best_score\n",
    "        self.best_estimator_ = ELMClassifier(**best_params)\n",
    "        self.best_estimator_.fit(X_train, y_train)\n",
    "        \n",
    "        return self\n",
    "        \n",
    "    def predict(self, X_test):\n",
    "        return self.best_estimator_.predict(X_test)\n",
    "param_grid = {\n",
    "    'n_neurons': [100, 200, 300,400,512,1000],\n",
    "    'ufunc': [ 'relu','tanh'],\n",
    "    'alpha': [0.001, 0.01, 0.1]\n",
    "}\n",
    "\n",
    "search = ELMGridSearch(param_grid,cv=5)\n",
    "search.fit(X_train_scaled, y_train)\n",
    "\n",
    "print(search.best_params_)\n",
    "print(search.best_score_)"
   ]
  },
  {
   "cell_type": "code",
   "execution_count": 31,
   "id": "a85c17dd",
   "metadata": {},
   "outputs": [
    {
     "data": {
      "text/plain": [
       "ELMClassifier(alpha=0.001, n_neurons=1000, ufunc='relu')"
      ]
     },
     "execution_count": 31,
     "metadata": {},
     "output_type": "execute_result"
    }
   ],
   "source": [
    "model3 = ELMClassifier(n_neurons = search.best_params_['n_neurons'],ufunc = search.best_params_['ufunc'],\n",
    "                    alpha = search.best_params_['alpha'])\n",
    "model3.fit(X_train_scaled,y_train)"
   ]
  },
  {
   "cell_type": "code",
   "execution_count": 32,
   "id": "3db05ead",
   "metadata": {},
   "outputs": [],
   "source": [
    "y_pred=model3.predict(X_test_scaled)"
   ]
  },
  {
   "cell_type": "code",
   "execution_count": 33,
   "id": "dd8aab6d",
   "metadata": {},
   "outputs": [
    {
     "data": {
      "text/plain": [
       "0.982291878689192"
      ]
     },
     "execution_count": 33,
     "metadata": {},
     "output_type": "execute_result"
    }
   ],
   "source": [
    "accuracy_score(y_test,y_pred)"
   ]
  },
  {
   "cell_type": "code",
   "execution_count": 34,
   "id": "f138053d",
   "metadata": {},
   "outputs": [
    {
     "data": {
      "text/plain": [
       "array([[942,  10,   3,  10,  25],\n",
       "       [  4, 962,   0,  17,   8],\n",
       "       [  0,   0, 968,   0,   0],\n",
       "       [  0,   0,   0, 975,   0],\n",
       "       [  0,   0,   0,  10, 979]])"
      ]
     },
     "execution_count": 34,
     "metadata": {},
     "output_type": "execute_result"
    }
   ],
   "source": [
    "cm=confusion_matrix(y_test, y_pred)\n",
    "cm"
   ]
  },
  {
   "cell_type": "code",
   "execution_count": 35,
   "id": "f4e79004",
   "metadata": {},
   "outputs": [
    {
     "data": {
      "image/png": "[encoded data removed]",
      "text/plain": [
       "<Figure size 800x600 with 2 Axes>"
      ]
     },
     "metadata": {},
     "output_type": "display_data"
    }
   ],
   "source": [
    "plt.figure(figsize = (8,6))\n",
    "\n",
    "sns.heatmap(cm, \n",
    "            annot=True, \n",
    "            cmap=\"Spectral\")\n",
    "plt.xlabel('Predicted', fontsize=15)\n",
    "plt.ylabel('Actual/Observed', fontsize=15);"
   ]
  },
  {
   "cell_type": "code",
   "execution_count": 36,
   "id": "6a04b96e",
   "metadata": {},
   "outputs": [
    {
     "name": "stdout",
     "output_type": "stream",
     "text": [
      "              precision    recall  f1-score   support\n",
      "\n",
      "           1       1.00      0.95      0.97       990\n",
      "           2       0.99      0.97      0.98       991\n",
      "           3       1.00      1.00      1.00       968\n",
      "           4       0.96      1.00      0.98       975\n",
      "           5       0.97      0.99      0.98       989\n",
      "\n",
      "    accuracy                           0.98      4913\n",
      "   macro avg       0.98      0.98      0.98      4913\n",
      "weighted avg       0.98      0.98      0.98      4913\n",
      "\n"
     ]
    }
   ],
   "source": [
    "print(classification_report(y_test, y_pred))"
   ]
  },
  {
   "cell_type": "code",
   "execution_count": 37,
   "id": "60fd1a11",
   "metadata": {},
   "outputs": [
    {
     "data": {
      "text/plain": [
       "[0.9888040712468193,\n",
       " 0.9923664122137404,\n",
       " 0.9847328244274809,\n",
       " 0.9877862595419847,\n",
       " 0.9888040712468193,\n",
       " 0.9918575063613232,\n",
       " 0.9852417302798983,\n",
       " 0.9928753180661578,\n",
       " 0.9857506361323155,\n",
       " 0.9872773536895675]"
      ]
     },
     "execution_count": 37,
     "metadata": {},
     "output_type": "execute_result"
    }
   ],
   "source": [
    "n_folds = 10\n",
    "fold_size = X_train_scaled.shape[0] // n_folds\n",
    "folds = [(i * fold_size, (i + 1) * fold_size) for i in range(n_folds)]\n",
    "\n",
    "scores = []\n",
    "for i in range(n_folds):\n",
    "    \n",
    "    \n",
    "    # Get the training and validation data for this fold\n",
    "    val_start, val_end = folds[i]\n",
    "    X_val = X_train_scaled[val_start:val_end]\n",
    "    y_val = y_train[val_start:val_end]\n",
    "    X_trn = np.concatenate((X_train_scaled[:val_start], X_train_scaled[val_end:]), axis=0)\n",
    "    y_trn = np.concatenate((y_train[:val_start], y_train[val_end:]), axis=0)\n",
    "    \n",
    "    # Train the ELMClassifier\n",
    "    \n",
    "    model3.fit(X_trn, y_trn)\n",
    "    \n",
    "    # Evaluate the ELMClassifier on the validation data\n",
    "    score = clf.score(X_val, y_val)\n",
    "    scores.append(score)\n",
    "scores"
   ]
  },
  {
   "cell_type": "code",
   "execution_count": 38,
   "id": "635497e9",
   "metadata": {},
   "outputs": [
    {
     "name": "stdout",
     "output_type": "stream",
     "text": [
      "Average Accuracy 0.9885496183206108\n",
      "Standard deviation of Accuracy 0.002826604392264399\n"
     ]
    },
    {
     "data": {
      "image/png": "[encoded data removed]",
      "text/plain": [
       "<Figure size 640x480 with 1 Axes>"
      ]
     },
     "metadata": {},
     "output_type": "display_data"
    }
   ],
   "source": [
    "plt.plot(range(1, 11), scores, marker='o')\n",
    "plt.ylim(0, 1)\n",
    "plt.ylabel('Accuracy score', fontsize=15)\n",
    "plt.xlabel('Fold', fontsize=15)\n",
    "plt.xticks(range(1,11))\n",
    "print(\"Average Accuracy\",np.array(scores).mean())\n",
    "print(\"Standard deviation of Accuracy\",np.array(scores).std())"
   ]
  }
 ],
 "metadata": {
  "kernelspec": {
   "display_name": "Python 3 (ipykernel)",
   "language": "python",
   "name": "python3"
  },
  "language_info": {
   "codemirror_mode": {
    "name": "ipython",
    "version": 3
   },
   "file_extension": ".py",
   "mimetype": "text/x-python",
   "name": "python",
   "nbconvert_exporter": "python",
   "pygments_lexer": "ipython3",
   "version": "3.9.13"
  }
 },
 "nbformat": 4,
 "nbformat_minor": 5
}
